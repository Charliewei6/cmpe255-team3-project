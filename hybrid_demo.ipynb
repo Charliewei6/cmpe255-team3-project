{
 "cells": [
  {
   "cell_type": "code",
   "execution_count": 10,
   "metadata": {},
   "outputs": [],
   "source": [
    "import time\n",
    "import numpy as np\n",
    "import pandas as pd\n",
    "import keras\n",
    "import random\n",
    "\n",
    "from scipy import sparse\n",
    "from sklearn.metrics.pairwise import cosine_similarity\n",
    "from sklearn.feature_extraction.text import TfidfVectorizer\n",
    "from sklearn.metrics.pairwise import linear_kernel\n",
    "\n",
    "\n",
    "from keras.layers import Dropout, Flatten,Activation,Input,Embedding\n",
    "from keras.models import Model\n",
    "from keras.layers.merge import dot\n",
    "from keras.optimizers import Adam\n",
    "from keras.layers import Dense , merge\n",
    "from sklearn.metrics import mean_squared_error\n",
    "from math import sqrt\n",
    "from sklearn.model_selection import train_test_split"
   ]
  },
  {
   "cell_type": "code",
   "execution_count": 11,
   "metadata": {
    "scrolled": true
   },
   "outputs": [
    {
     "data": {
      "text/html": [
       "<div>\n",
       "<style scoped>\n",
       "    .dataframe tbody tr th:only-of-type {\n",
       "        vertical-align: middle;\n",
       "    }\n",
       "\n",
       "    .dataframe tbody tr th {\n",
       "        vertical-align: top;\n",
       "    }\n",
       "\n",
       "    .dataframe thead th {\n",
       "        text-align: right;\n",
       "    }\n",
       "</style>\n",
       "<table border=\"1\" class=\"dataframe\">\n",
       "  <thead>\n",
       "    <tr style=\"text-align: right;\">\n",
       "      <th></th>\n",
       "      <th>movieId</th>\n",
       "      <th>title</th>\n",
       "      <th>genres</th>\n",
       "    </tr>\n",
       "  </thead>\n",
       "  <tbody>\n",
       "    <tr>\n",
       "      <th>0</th>\n",
       "      <td>1</td>\n",
       "      <td>Toy Story (1995)</td>\n",
       "      <td>Adventure|Animation|Children|Comedy|Fantasy</td>\n",
       "    </tr>\n",
       "    <tr>\n",
       "      <th>1</th>\n",
       "      <td>2</td>\n",
       "      <td>Jumanji (1995)</td>\n",
       "      <td>Adventure|Children|Fantasy</td>\n",
       "    </tr>\n",
       "    <tr>\n",
       "      <th>2</th>\n",
       "      <td>3</td>\n",
       "      <td>Grumpier Old Men (1995)</td>\n",
       "      <td>Comedy|Romance</td>\n",
       "    </tr>\n",
       "    <tr>\n",
       "      <th>3</th>\n",
       "      <td>4</td>\n",
       "      <td>Waiting to Exhale (1995)</td>\n",
       "      <td>Comedy|Drama|Romance</td>\n",
       "    </tr>\n",
       "    <tr>\n",
       "      <th>4</th>\n",
       "      <td>5</td>\n",
       "      <td>Father of the Bride Part II (1995)</td>\n",
       "      <td>Comedy</td>\n",
       "    </tr>\n",
       "  </tbody>\n",
       "</table>\n",
       "</div>"
      ],
      "text/plain": [
       "   movieId                               title  \\\n",
       "0        1                    Toy Story (1995)   \n",
       "1        2                      Jumanji (1995)   \n",
       "2        3             Grumpier Old Men (1995)   \n",
       "3        4            Waiting to Exhale (1995)   \n",
       "4        5  Father of the Bride Part II (1995)   \n",
       "\n",
       "                                        genres  \n",
       "0  Adventure|Animation|Children|Comedy|Fantasy  \n",
       "1                   Adventure|Children|Fantasy  \n",
       "2                               Comedy|Romance  \n",
       "3                         Comedy|Drama|Romance  \n",
       "4                                       Comedy  "
      ]
     },
     "execution_count": 11,
     "metadata": {},
     "output_type": "execute_result"
    }
   ],
   "source": [
    "movies = pd.read_csv('./data/movie.csv')\n",
    "movies.head()"
   ]
  },
  {
   "cell_type": "code",
   "execution_count": 12,
   "metadata": {},
   "outputs": [
    {
     "data": {
      "text/html": [
       "<div>\n",
       "<style scoped>\n",
       "    .dataframe tbody tr th:only-of-type {\n",
       "        vertical-align: middle;\n",
       "    }\n",
       "\n",
       "    .dataframe tbody tr th {\n",
       "        vertical-align: top;\n",
       "    }\n",
       "\n",
       "    .dataframe thead th {\n",
       "        text-align: right;\n",
       "    }\n",
       "</style>\n",
       "<table border=\"1\" class=\"dataframe\">\n",
       "  <thead>\n",
       "    <tr style=\"text-align: right;\">\n",
       "      <th></th>\n",
       "      <th>userId</th>\n",
       "      <th>movieId</th>\n",
       "      <th>rating</th>\n",
       "      <th>timestamp</th>\n",
       "    </tr>\n",
       "  </thead>\n",
       "  <tbody>\n",
       "    <tr>\n",
       "      <th>0</th>\n",
       "      <td>1</td>\n",
       "      <td>2</td>\n",
       "      <td>3.5</td>\n",
       "      <td>2005-04-02 23:53:47</td>\n",
       "    </tr>\n",
       "    <tr>\n",
       "      <th>1</th>\n",
       "      <td>1</td>\n",
       "      <td>29</td>\n",
       "      <td>3.5</td>\n",
       "      <td>2005-04-02 23:31:16</td>\n",
       "    </tr>\n",
       "    <tr>\n",
       "      <th>2</th>\n",
       "      <td>1</td>\n",
       "      <td>32</td>\n",
       "      <td>3.5</td>\n",
       "      <td>2005-04-02 23:33:39</td>\n",
       "    </tr>\n",
       "    <tr>\n",
       "      <th>3</th>\n",
       "      <td>1</td>\n",
       "      <td>47</td>\n",
       "      <td>3.5</td>\n",
       "      <td>2005-04-02 23:32:07</td>\n",
       "    </tr>\n",
       "    <tr>\n",
       "      <th>4</th>\n",
       "      <td>1</td>\n",
       "      <td>50</td>\n",
       "      <td>3.5</td>\n",
       "      <td>2005-04-02 23:29:40</td>\n",
       "    </tr>\n",
       "  </tbody>\n",
       "</table>\n",
       "</div>"
      ],
      "text/plain": [
       "   userId  movieId  rating            timestamp\n",
       "0       1        2     3.5  2005-04-02 23:53:47\n",
       "1       1       29     3.5  2005-04-02 23:31:16\n",
       "2       1       32     3.5  2005-04-02 23:33:39\n",
       "3       1       47     3.5  2005-04-02 23:32:07\n",
       "4       1       50     3.5  2005-04-02 23:29:40"
      ]
     },
     "execution_count": 12,
     "metadata": {},
     "output_type": "execute_result"
    }
   ],
   "source": [
    "ratings = pd.read_csv('./data/rating.csv')\n",
    "ratings.head()"
   ]
  },
  {
   "cell_type": "code",
   "execution_count": 13,
   "metadata": {},
   "outputs": [
    {
     "data": {
      "text/plain": [
       "(27278,)"
      ]
     },
     "execution_count": 13,
     "metadata": {},
     "output_type": "execute_result"
    }
   ],
   "source": [
    "movies.movieId.unique().shape"
   ]
  },
  {
   "cell_type": "code",
   "execution_count": 14,
   "metadata": {},
   "outputs": [
    {
     "data": {
      "text/plain": [
       "(26744,)"
      ]
     },
     "execution_count": 14,
     "metadata": {},
     "output_type": "execute_result"
    }
   ],
   "source": [
    "ratings.movieId.unique().shape"
   ]
  },
  {
   "cell_type": "code",
   "execution_count": 15,
   "metadata": {},
   "outputs": [
    {
     "data": {
      "text/html": [
       "<div>\n",
       "<style scoped>\n",
       "    .dataframe tbody tr th:only-of-type {\n",
       "        vertical-align: middle;\n",
       "    }\n",
       "\n",
       "    .dataframe tbody tr th {\n",
       "        vertical-align: top;\n",
       "    }\n",
       "\n",
       "    .dataframe thead th {\n",
       "        text-align: right;\n",
       "    }\n",
       "</style>\n",
       "<table border=\"1\" class=\"dataframe\">\n",
       "  <thead>\n",
       "    <tr style=\"text-align: right;\">\n",
       "      <th></th>\n",
       "      <th>movieId</th>\n",
       "      <th>title</th>\n",
       "      <th>genres</th>\n",
       "      <th>rating</th>\n",
       "      <th>timestamp</th>\n",
       "    </tr>\n",
       "  </thead>\n",
       "  <tbody>\n",
       "    <tr>\n",
       "      <th>0</th>\n",
       "      <td>1</td>\n",
       "      <td>Toy Story (1995)</td>\n",
       "      <td>Adventure|Animation|Children|Comedy|Fantasy</td>\n",
       "      <td>4.0</td>\n",
       "      <td>1999-12-11 13:36:47</td>\n",
       "    </tr>\n",
       "    <tr>\n",
       "      <th>1</th>\n",
       "      <td>1</td>\n",
       "      <td>Toy Story (1995)</td>\n",
       "      <td>Adventure|Animation|Children|Comedy|Fantasy</td>\n",
       "      <td>5.0</td>\n",
       "      <td>1997-03-13 17:50:52</td>\n",
       "    </tr>\n",
       "    <tr>\n",
       "      <th>2</th>\n",
       "      <td>1</td>\n",
       "      <td>Toy Story (1995)</td>\n",
       "      <td>Adventure|Animation|Children|Comedy|Fantasy</td>\n",
       "      <td>4.0</td>\n",
       "      <td>1996-06-05 13:37:51</td>\n",
       "    </tr>\n",
       "    <tr>\n",
       "      <th>3</th>\n",
       "      <td>1</td>\n",
       "      <td>Toy Story (1995)</td>\n",
       "      <td>Adventure|Animation|Children|Comedy|Fantasy</td>\n",
       "      <td>4.0</td>\n",
       "      <td>1999-11-25 02:44:47</td>\n",
       "    </tr>\n",
       "    <tr>\n",
       "      <th>4</th>\n",
       "      <td>1</td>\n",
       "      <td>Toy Story (1995)</td>\n",
       "      <td>Adventure|Animation|Children|Comedy|Fantasy</td>\n",
       "      <td>4.5</td>\n",
       "      <td>2009-01-02 01:13:41</td>\n",
       "    </tr>\n",
       "  </tbody>\n",
       "</table>\n",
       "</div>"
      ],
      "text/plain": [
       "   movieId             title                                       genres  \\\n",
       "0        1  Toy Story (1995)  Adventure|Animation|Children|Comedy|Fantasy   \n",
       "1        1  Toy Story (1995)  Adventure|Animation|Children|Comedy|Fantasy   \n",
       "2        1  Toy Story (1995)  Adventure|Animation|Children|Comedy|Fantasy   \n",
       "3        1  Toy Story (1995)  Adventure|Animation|Children|Comedy|Fantasy   \n",
       "4        1  Toy Story (1995)  Adventure|Animation|Children|Comedy|Fantasy   \n",
       "\n",
       "   rating            timestamp  \n",
       "0     4.0  1999-12-11 13:36:47  \n",
       "1     5.0  1997-03-13 17:50:52  \n",
       "2     4.0  1996-06-05 13:37:51  \n",
       "3     4.0  1999-11-25 02:44:47  \n",
       "4     4.5  2009-01-02 01:13:41  "
      ]
     },
     "execution_count": 15,
     "metadata": {},
     "output_type": "execute_result"
    }
   ],
   "source": [
    "merge_ratings_movies = pd.merge(movies, ratings, on='movieId', how='inner')\n",
    "del merge_ratings_movies[\"userId\"]\n",
    "merge_ratings_movies.head()"
   ]
  },
  {
   "cell_type": "code",
   "execution_count": 16,
   "metadata": {},
   "outputs": [
    {
     "data": {
      "text/html": [
       "<div>\n",
       "<style scoped>\n",
       "    .dataframe tbody tr th:only-of-type {\n",
       "        vertical-align: middle;\n",
       "    }\n",
       "\n",
       "    .dataframe tbody tr th {\n",
       "        vertical-align: top;\n",
       "    }\n",
       "\n",
       "    .dataframe thead th {\n",
       "        text-align: right;\n",
       "    }\n",
       "</style>\n",
       "<table border=\"1\" class=\"dataframe\">\n",
       "  <thead>\n",
       "    <tr style=\"text-align: right;\">\n",
       "      <th></th>\n",
       "      <th>rating</th>\n",
       "    </tr>\n",
       "    <tr>\n",
       "      <th>movieId</th>\n",
       "      <th></th>\n",
       "    </tr>\n",
       "  </thead>\n",
       "  <tbody>\n",
       "    <tr>\n",
       "      <th>1</th>\n",
       "      <td>3.921240</td>\n",
       "    </tr>\n",
       "    <tr>\n",
       "      <th>2</th>\n",
       "      <td>3.211977</td>\n",
       "    </tr>\n",
       "    <tr>\n",
       "      <th>3</th>\n",
       "      <td>3.151040</td>\n",
       "    </tr>\n",
       "    <tr>\n",
       "      <th>4</th>\n",
       "      <td>2.861393</td>\n",
       "    </tr>\n",
       "    <tr>\n",
       "      <th>5</th>\n",
       "      <td>3.064592</td>\n",
       "    </tr>\n",
       "  </tbody>\n",
       "</table>\n",
       "</div>"
      ],
      "text/plain": [
       "           rating\n",
       "movieId          \n",
       "1        3.921240\n",
       "2        3.211977\n",
       "3        3.151040\n",
       "4        2.861393\n",
       "5        3.064592"
      ]
     },
     "execution_count": 16,
     "metadata": {},
     "output_type": "execute_result"
    }
   ],
   "source": [
    "movies_avg_ratings = merge_ratings_movies.groupby('movieId').mean()\n",
    "movies_avg_ratings.head()"
   ]
  },
  {
   "cell_type": "code",
   "execution_count": 17,
   "metadata": {},
   "outputs": [
    {
     "data": {
      "text/html": [
       "<div>\n",
       "<style scoped>\n",
       "    .dataframe tbody tr th:only-of-type {\n",
       "        vertical-align: middle;\n",
       "    }\n",
       "\n",
       "    .dataframe tbody tr th {\n",
       "        vertical-align: top;\n",
       "    }\n",
       "\n",
       "    .dataframe thead th {\n",
       "        text-align: right;\n",
       "    }\n",
       "</style>\n",
       "<table border=\"1\" class=\"dataframe\">\n",
       "  <thead>\n",
       "    <tr style=\"text-align: right;\">\n",
       "      <th></th>\n",
       "      <th>movieId</th>\n",
       "      <th>title</th>\n",
       "      <th>genres</th>\n",
       "      <th>rating</th>\n",
       "    </tr>\n",
       "  </thead>\n",
       "  <tbody>\n",
       "    <tr>\n",
       "      <th>0</th>\n",
       "      <td>1</td>\n",
       "      <td>Toy Story (1995)</td>\n",
       "      <td>Adventure|Animation|Children|Comedy|Fantasy</td>\n",
       "      <td>3.921240</td>\n",
       "    </tr>\n",
       "    <tr>\n",
       "      <th>1</th>\n",
       "      <td>2</td>\n",
       "      <td>Jumanji (1995)</td>\n",
       "      <td>Adventure|Children|Fantasy</td>\n",
       "      <td>3.211977</td>\n",
       "    </tr>\n",
       "    <tr>\n",
       "      <th>2</th>\n",
       "      <td>3</td>\n",
       "      <td>Grumpier Old Men (1995)</td>\n",
       "      <td>Comedy|Romance</td>\n",
       "      <td>3.151040</td>\n",
       "    </tr>\n",
       "    <tr>\n",
       "      <th>3</th>\n",
       "      <td>4</td>\n",
       "      <td>Waiting to Exhale (1995)</td>\n",
       "      <td>Comedy|Drama|Romance</td>\n",
       "      <td>2.861393</td>\n",
       "    </tr>\n",
       "    <tr>\n",
       "      <th>4</th>\n",
       "      <td>5</td>\n",
       "      <td>Father of the Bride Part II (1995)</td>\n",
       "      <td>Comedy</td>\n",
       "      <td>3.064592</td>\n",
       "    </tr>\n",
       "  </tbody>\n",
       "</table>\n",
       "</div>"
      ],
      "text/plain": [
       "   movieId                               title  \\\n",
       "0        1                    Toy Story (1995)   \n",
       "1        2                      Jumanji (1995)   \n",
       "2        3             Grumpier Old Men (1995)   \n",
       "3        4            Waiting to Exhale (1995)   \n",
       "4        5  Father of the Bride Part II (1995)   \n",
       "\n",
       "                                        genres    rating  \n",
       "0  Adventure|Animation|Children|Comedy|Fantasy  3.921240  \n",
       "1                   Adventure|Children|Fantasy  3.211977  \n",
       "2                               Comedy|Romance  3.151040  \n",
       "3                         Comedy|Drama|Romance  2.861393  \n",
       "4                                       Comedy  3.064592  "
      ]
     },
     "execution_count": 17,
     "metadata": {},
     "output_type": "execute_result"
    }
   ],
   "source": [
    "movies_ratings=pd.merge(movies, movies_avg_ratings, on='movieId', how='inner')\n",
    "movies_ratings.head()"
   ]
  },
  {
   "cell_type": "code",
   "execution_count": 18,
   "metadata": {},
   "outputs": [
    {
     "name": "stdout",
     "output_type": "stream",
     "text": [
      "[[1.         0.20589718 0.04910177 ... 0.2050947  0.         0.11992171]\n",
      " [0.20589718 1.         0.         ... 0.26692393 0.         0.15607412]\n",
      " [0.04910177 0.         1.         ... 0.         0.         0.        ]\n",
      " ...\n",
      " [0.2050947  0.26692393 0.         ... 1.         0.         0.2537066 ]\n",
      " [0.         0.         0.         ... 0.         1.         0.        ]\n",
      " [0.11992171 0.15607412 0.         ... 0.2537066  0.         1.        ]]\n"
     ]
    }
   ],
   "source": [
    "tf = TfidfVectorizer(analyzer='word', ngram_range=(1, 3),max_features=10000, min_df=0, stop_words='english')\n",
    "tfidf_matrix = tf.fit_transform(movies_ratings['genres'])\n",
    "cosine_similarities = linear_kernel(tfidf_matrix, tfidf_matrix)\n",
    "print(cosine_similarities)"
   ]
  },
  {
   "cell_type": "code",
   "execution_count": 19,
   "metadata": {},
   "outputs": [],
   "source": [
    "results = {}\n",
    "\n",
    "for idx, row in movies_ratings.iterrows():\n",
    "    similar_indices = cosine_similarities[idx].argsort()[:-100:-1]\n",
    "    similar_items = [(cosine_similarities[idx][i], movies_ratings['movieId'][i]) for i in similar_indices]\n",
    "\n",
    "    results[row['movieId']] = similar_items[1:]"
   ]
  },
  {
   "cell_type": "code",
   "execution_count": 20,
   "metadata": {},
   "outputs": [],
   "source": [
    "def suggest(item_id, amount):\n",
    "    count = amount\n",
    "    rating_sum = 0\n",
    "    recs = results[item_id]\n",
    "    for rec in recs:\n",
    "        if rec[1]!=item_id:\n",
    "            index = movies_ratings[movies_ratings['movieId'] == rec[1]].index\n",
    "            rating = movies_ratings.iloc[index]['rating']\n",
    "            rating_sum += float(rating)\n",
    "            amount -= 1\n",
    "        if amount <= 0:\n",
    "            break\n",
    "    return rating_sum/count"
   ]
  },
  {
   "cell_type": "code",
   "execution_count": 21,
   "metadata": {},
   "outputs": [],
   "source": [
    "pre_rating = suggest(5625,10)"
   ]
  },
  {
   "cell_type": "code",
   "execution_count": 22,
   "metadata": {},
   "outputs": [
    {
     "name": "stdout",
     "output_type": "stream",
     "text": [
      "3.2646752861015402\n"
     ]
    }
   ],
   "source": [
    "print(pre_rating)"
   ]
  },
  {
   "cell_type": "code",
   "execution_count": 23,
   "metadata": {},
   "outputs": [],
   "source": [
    "np.random.seed(123)\n",
    "# load data\n",
    "def loadData():\n",
    "    ratings = pd.read_csv('./data/rating.csv', parse_dates=['timestamp'])\n",
    "    return ratings"
   ]
  },
  {
   "cell_type": "code",
   "execution_count": 24,
   "metadata": {},
   "outputs": [],
   "source": [
    "# for test convenience, only use num% of data\n",
    "def cutData(num, ratings):\n",
    "    rand_userIds = np.random.choice(ratings['userId'].unique(), size=int(len(ratings['userId'].unique())*num), replace=False)\n",
    "    ratings = ratings.loc[ratings['userId'].isin(rand_userIds)]\n",
    "    return ratings"
   ]
  },
  {
   "cell_type": "code",
   "execution_count": 25,
   "metadata": {},
   "outputs": [],
   "source": [
    "def splitData(ratings):\n",
    "    users = ratings.userId.unique()\n",
    "    movies = ratings.movieId.unique()\n",
    "\n",
    "    userid2idx = {o:i for i,o in enumerate(users)}\n",
    "    movieid2idx = {o:i for i,o in enumerate(movies)}\n",
    "\n",
    "    train_ratings, test_ratings= train_test_split(ratings, test_size=0.2, random_state=42)\n",
    "    train_ratings_ori = train_ratings.copy()\n",
    "    test_ratings_ori = test_ratings.copy()\n",
    "    \n",
    "    train_ratings['userId'] = train_ratings['userId'].apply(lambda x: userid2idx[x])\n",
    "    train_ratings['movieId'] = train_ratings['movieId'].apply(lambda x: movieid2idx[x])\n",
    "    test_ratings['userId'] = test_ratings['userId'].apply(lambda x: userid2idx[x])\n",
    "    test_ratings['movieId'] = test_ratings['movieId'].apply(lambda x: movieid2idx[x])\n",
    "    \n",
    "    \"\"\"\n",
    "    ratings['userId'] = ratings['userId'].apply(lambda x: userid2idx[x])\n",
    "    ratings['movieId'] = ratings['movieId'].apply(lambda x: movieid2idx[x])\n",
    "    split = np.random.rand(len(ratings)) < 0.8\n",
    "    train_ratings = ratings[split]\n",
    "    test_ratings = ratings[~split]\n",
    "    \"\"\"\n",
    "    \n",
    "    print(train_ratings.shape , test_ratings.shape)\n",
    "    print(train_ratings_ori.shape, test_ratings_ori)\n",
    "    return train_ratings, test_ratings, train_ratings_ori, test_ratings_ori"
   ]
  },
  {
   "cell_type": "code",
   "execution_count": 26,
   "metadata": {},
   "outputs": [],
   "source": [
    "def embeddingNNModel(ratings):\n",
    "    n_movies=len(ratings['movieId'].unique())\n",
    "    n_users=len(ratings['userId'].unique())\n",
    "    n_latent_factors=50  # hyperparamter to deal with. \n",
    "\n",
    "    user_input=Input(shape=(1,),name='user_input',dtype='int64')\n",
    "    user_embedding=Embedding(n_users,n_latent_factors,name='user_embedding')(user_input)\n",
    "    user_vec =Flatten(name='FlattenUsers')(user_embedding)\n",
    "    user_vec=Dropout(0.40)(user_vec)\n",
    "\n",
    "    movie_input=Input(shape=(1,),name='movie_input',dtype='int64')\n",
    "    movie_embedding=Embedding(n_movies,n_latent_factors,name='movie_embedding')(movie_input)\n",
    "    movie_vec=Flatten(name='FlattenMovies')(movie_embedding)\n",
    "    movie_vec=Dropout(0.40)(movie_vec)\n",
    "\n",
    "    sim=dot([user_vec,movie_vec],name='Simalarity-Dot-Product',axes=1)\n",
    "    nn_inp=Dense(96,activation='relu')(sim)\n",
    "    nn_inp=Dropout(0.4)(nn_inp)\n",
    "    nn_inp=Dense(1,activation='relu')(nn_inp)\n",
    "    nn_model =keras.models.Model([user_input, movie_input],nn_inp)\n",
    "    return nn_model"
   ]
  },
  {
   "cell_type": "code",
   "execution_count": 27,
   "metadata": {},
   "outputs": [],
   "source": [
    "def cfFit(model, train_ratings, epochs, batch_size):\n",
    "    model.compile(optimizer=Adam(lr=1e-4),loss='mse')\n",
    "    model.fit([train_ratings.userId,train_ratings.movieId], train_ratings.rating, epochs=epochs, batch_size=batch_size, verbose=1)\n",
    "    return model"
   ]
  },
  {
   "cell_type": "code",
   "execution_count": 28,
   "metadata": {},
   "outputs": [],
   "source": [
    "def cfPredict(model, test_ratings):\n",
    "    pre_ratings = model.predict([test_ratings.userId,test_ratings.movieId])\n",
    "    return pre_ratings"
   ]
  },
  {
   "cell_type": "code",
   "execution_count": 29,
   "metadata": {},
   "outputs": [],
   "source": [
    "def cbPredict(test_ratings_ori):\n",
    "    cb_pre_ratings = []\n",
    "    for index, row in test_ratings_ori.iterrows():\n",
    "        pre_rateing = suggest(row['movieId'], 5)\n",
    "        cb_pre_ratings.append(pre_rateing)\n",
    "    cb_pre_ratings = np.asarray(cb_pre_ratings)\n",
    "    cb_pre_ratings_reshape = np.reshape(cb_pre_ratings, (cb_pre_ratings.shape[0], 1))\n",
    "    return cb_pre_ratings_reshape"
   ]
  },
  {
   "cell_type": "code",
   "execution_count": 30,
   "metadata": {},
   "outputs": [],
   "source": [
    "def finalPredict(cbPre, cfPre, num1, num2):\n",
    "    finalPre = num1 * cbPre + num2 * cfPre\n",
    "    return finalPre"
   ]
  },
  {
   "cell_type": "code",
   "execution_count": 31,
   "metadata": {},
   "outputs": [],
   "source": [
    "def rmse(prediction, ground_truth):\n",
    "    return sqrt(mean_squared_error(prediction, ground_truth))"
   ]
  },
  {
   "cell_type": "code",
   "execution_count": 33,
   "metadata": {
    "scrolled": true
   },
   "outputs": [
    {
     "name": "stderr",
     "output_type": "stream",
     "text": [
      "<ipython-input-25-36490fffc1b9>:12: SettingWithCopyWarning: \n",
      "A value is trying to be set on a copy of a slice from a DataFrame.\n",
      "Try using .loc[row_indexer,col_indexer] = value instead\n",
      "\n",
      "See the caveats in the documentation: https://pandas.pydata.org/pandas-docs/stable/user_guide/indexing.html#returning-a-view-versus-a-copy\n",
      "  train_ratings['userId'] = train_ratings['userId'].apply(lambda x: userid2idx[x])\n",
      "<ipython-input-25-36490fffc1b9>:13: SettingWithCopyWarning: \n",
      "A value is trying to be set on a copy of a slice from a DataFrame.\n",
      "Try using .loc[row_indexer,col_indexer] = value instead\n",
      "\n",
      "See the caveats in the documentation: https://pandas.pydata.org/pandas-docs/stable/user_guide/indexing.html#returning-a-view-versus-a-copy\n",
      "  train_ratings['movieId'] = train_ratings['movieId'].apply(lambda x: movieid2idx[x])\n",
      "<ipython-input-25-36490fffc1b9>:14: SettingWithCopyWarning: \n",
      "A value is trying to be set on a copy of a slice from a DataFrame.\n",
      "Try using .loc[row_indexer,col_indexer] = value instead\n",
      "\n",
      "See the caveats in the documentation: https://pandas.pydata.org/pandas-docs/stable/user_guide/indexing.html#returning-a-view-versus-a-copy\n",
      "  test_ratings['userId'] = test_ratings['userId'].apply(lambda x: userid2idx[x])\n",
      "<ipython-input-25-36490fffc1b9>:15: SettingWithCopyWarning: \n",
      "A value is trying to be set on a copy of a slice from a DataFrame.\n",
      "Try using .loc[row_indexer,col_indexer] = value instead\n",
      "\n",
      "See the caveats in the documentation: https://pandas.pydata.org/pandas-docs/stable/user_guide/indexing.html#returning-a-view-versus-a-copy\n",
      "  test_ratings['movieId'] = test_ratings['movieId'].apply(lambda x: movieid2idx[x])\n"
     ]
    },
    {
     "name": "stdout",
     "output_type": "stream",
     "text": [
      "(1567070, 4) (391768, 4)\n",
      "(1567070, 4)           userId  movieId  rating           timestamp\n",
      "12647531   87415     2396     2.5 2008-10-29 16:44:54\n",
      "149321       989     2881     3.0 2004-09-09 05:40:36\n",
      "1132856     7729     1099     4.0 2006-04-02 04:02:26\n",
      "4127020    28082      858     4.0 1997-05-04 16:23:23\n",
      "1891552    12778     7099     3.5 2005-12-12 19:13:38\n",
      "...          ...      ...     ...                 ...\n",
      "1471997     9955      180     4.5 2005-03-22 06:18:16\n",
      "15896093  109961   111362     4.0 2015-02-03 11:52:51\n",
      "13223078   91355        5     4.0 1997-06-18 12:35:41\n",
      "11733087   80990     1591     1.0 1997-10-19 19:56:36\n",
      "4212443    28702      176     5.0 1996-06-09 21:57:29\n",
      "\n",
      "[391768 rows x 4 columns]\n",
      "Epoch 1/10\n",
      "3061/3061 [==============================] - 19s 6ms/step - loss: 8.4729\n",
      "Epoch 2/10\n",
      "3061/3061 [==============================] - 19s 6ms/step - loss: 1.2933\n",
      "Epoch 3/10\n",
      "3061/3061 [==============================] - 20s 6ms/step - loss: 1.2859\n",
      "Epoch 4/10\n",
      "3061/3061 [==============================] - 20s 6ms/step - loss: 1.2451\n",
      "Epoch 5/10\n",
      "3061/3061 [==============================] - 21s 7ms/step - loss: 1.1382\n",
      "Epoch 6/10\n",
      "3061/3061 [==============================] - 21s 7ms/step - loss: 1.0145\n",
      "Epoch 7/10\n",
      "3061/3061 [==============================] - 20s 6ms/step - loss: 0.9333\n",
      "Epoch 8/10\n",
      "3061/3061 [==============================] - 20s 6ms/step - loss: 0.8763\n",
      "Epoch 9/10\n",
      "3061/3061 [==============================] - 22s 7ms/step - loss: 0.8299\n",
      "Epoch 10/10\n",
      "3061/3061 [==============================] - 23s 8ms/step - loss: 0.7948\n",
      "Batch_size is: 512, epochs is: 10, Neural Network RMSE is: 0.8650405849193189\n",
      "cbPre is 0.1, cfPre is 0.9,  Hybrid RMSE is: 0.8724945347426856\n",
      "Batch_size is: 512, epochs is: 10, Neural Network RMSE is: 0.8650405849193189\n",
      "cbPre is 0.25, cfPre is 0.75,  Hybrid RMSE is: 0.8941675115256469\n",
      "Runtime of the program is 1607.2593989372253\n"
     ]
    }
   ],
   "source": [
    "start = time.time()\n",
    "ratings = loadData()\n",
    "ratings_cut = cutData(0.1, ratings)\n",
    "train_ratings, test_ratings, train_ratings_ori, test_ratings_ori = splitData(ratings_cut)\n",
    "\n",
    "nn_model = embeddingNNModel(ratings_cut)\n",
    "batch_size = 512\n",
    "epochs = 10\n",
    "new_model = cfFit(nn_model, train_ratings, epochs, batch_size)\n",
    "\n",
    "cf_pre_ratings = cfPredict(new_model, test_ratings)\n",
    "cb_pre_ratings = cbPredict(test_ratings_ori)\n",
    "\n",
    "cbNums = [0.1, 0.25]\n",
    "cfNums = [0.9, 0.75]\n",
    "for i in range(len(cbNums)):\n",
    "    final_pre_ratings = finalPredict(cb_pre_ratings, cf_pre_ratings, cbNums[i], cfNums[i])\n",
    "\n",
    "    RMSE = rmse(cf_pre_ratings, test_ratings.rating)\n",
    "    RMSE1 = rmse(final_pre_ratings, test_ratings.rating)\n",
    "\n",
    "    print (f'Batch_size is: {batch_size}, epochs is: {epochs}, Neural Network RMSE is: {RMSE}')\n",
    "    print (f'cbPre is {cbNums[i]}, cfPre is {cfNums[i]},  Hybrid RMSE is: {RMSE1}')\n",
    "\n",
    "\n",
    "\n",
    "end = time.time()\n",
    "print(f\"Runtime of the program is {end - start}\")"
   ]
  },
  {
   "cell_type": "code",
   "execution_count": null,
   "metadata": {},
   "outputs": [],
   "source": []
  }
 ],
 "metadata": {
  "kernelspec": {
   "display_name": "Python 3",
   "language": "python",
   "name": "python3"
  },
  "language_info": {
   "codemirror_mode": {
    "name": "ipython",
    "version": 3
   },
   "file_extension": ".py",
   "mimetype": "text/x-python",
   "name": "python",
   "nbconvert_exporter": "python",
   "pygments_lexer": "ipython3",
   "version": "3.8.8"
  }
 },
 "nbformat": 4,
 "nbformat_minor": 4
}
