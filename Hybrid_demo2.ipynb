{
 "cells": [
  {
   "cell_type": "code",
   "execution_count": 237,
   "id": "connected-sending",
   "metadata": {},
   "outputs": [],
   "source": [
    "import pandas as pd\n",
    "import numpy as np\n",
    "import seaborn as sns\n",
    "import matplotlib.pyplot as plt\n",
    "from sklearn.preprocessing import LabelEncoder\n",
    "from lightfm import LightFM\n",
    "from scipy.sparse import coo_matrix"
   ]
  },
  {
   "cell_type": "code",
   "execution_count": 238,
   "id": "attached-corps",
   "metadata": {},
   "outputs": [],
   "source": [
    "data=pd.read_csv(r'./dataset/rating.csv')\n"
   ]
  },
  {
   "cell_type": "code",
   "execution_count": 239,
   "id": "dressed-yorkshire",
   "metadata": {},
   "outputs": [
    {
     "data": {
      "text/html": [
       "<div>\n",
       "<style scoped>\n",
       "    .dataframe tbody tr th:only-of-type {\n",
       "        vertical-align: middle;\n",
       "    }\n",
       "\n",
       "    .dataframe tbody tr th {\n",
       "        vertical-align: top;\n",
       "    }\n",
       "\n",
       "    .dataframe thead th {\n",
       "        text-align: right;\n",
       "    }\n",
       "</style>\n",
       "<table border=\"1\" class=\"dataframe\">\n",
       "  <thead>\n",
       "    <tr style=\"text-align: right;\">\n",
       "      <th></th>\n",
       "      <th>userId</th>\n",
       "      <th>movieId</th>\n",
       "      <th>rating</th>\n",
       "      <th>timestamp</th>\n",
       "    </tr>\n",
       "  </thead>\n",
       "  <tbody>\n",
       "    <tr>\n",
       "      <th>0</th>\n",
       "      <td>1</td>\n",
       "      <td>2</td>\n",
       "      <td>3.5</td>\n",
       "      <td>2005-04-02 23:53:47</td>\n",
       "    </tr>\n",
       "    <tr>\n",
       "      <th>1</th>\n",
       "      <td>1</td>\n",
       "      <td>29</td>\n",
       "      <td>3.5</td>\n",
       "      <td>2005-04-02 23:31:16</td>\n",
       "    </tr>\n",
       "    <tr>\n",
       "      <th>2</th>\n",
       "      <td>1</td>\n",
       "      <td>32</td>\n",
       "      <td>3.5</td>\n",
       "      <td>2005-04-02 23:33:39</td>\n",
       "    </tr>\n",
       "    <tr>\n",
       "      <th>3</th>\n",
       "      <td>1</td>\n",
       "      <td>47</td>\n",
       "      <td>3.5</td>\n",
       "      <td>2005-04-02 23:32:07</td>\n",
       "    </tr>\n",
       "    <tr>\n",
       "      <th>4</th>\n",
       "      <td>1</td>\n",
       "      <td>50</td>\n",
       "      <td>3.5</td>\n",
       "      <td>2005-04-02 23:29:40</td>\n",
       "    </tr>\n",
       "  </tbody>\n",
       "</table>\n",
       "</div>"
      ],
      "text/plain": [
       "   userId  movieId  rating            timestamp\n",
       "0       1        2     3.5  2005-04-02 23:53:47\n",
       "1       1       29     3.5  2005-04-02 23:31:16\n",
       "2       1       32     3.5  2005-04-02 23:33:39\n",
       "3       1       47     3.5  2005-04-02 23:32:07\n",
       "4       1       50     3.5  2005-04-02 23:29:40"
      ]
     },
     "execution_count": 239,
     "metadata": {},
     "output_type": "execute_result"
    }
   ],
   "source": [
    "data.head()\n"
   ]
  },
  {
   "cell_type": "code",
   "execution_count": 242,
   "id": "removed-appearance",
   "metadata": {},
   "outputs": [
    {
     "data": {
      "text/plain": [
       "(20000263, 4)"
      ]
     },
     "execution_count": 242,
     "metadata": {},
     "output_type": "execute_result"
    }
   ],
   "source": [
    "data.shape"
   ]
  },
  {
   "cell_type": "code",
   "execution_count": 243,
   "id": "medium-assault",
   "metadata": {},
   "outputs": [],
   "source": [
    "df=data.copy()\n"
   ]
  },
  {
   "cell_type": "code",
   "execution_count": 244,
   "id": "organizational-briefs",
   "metadata": {},
   "outputs": [
    {
     "data": {
      "text/plain": [
       "(20000263, 4)"
      ]
     },
     "execution_count": 244,
     "metadata": {},
     "output_type": "execute_result"
    }
   ],
   "source": [
    "df.shape"
   ]
  },
  {
   "cell_type": "code",
   "execution_count": 245,
   "id": "mighty-biography",
   "metadata": {},
   "outputs": [
    {
     "name": "stdout",
     "output_type": "stream",
     "text": [
      "(16000220, 4) (4000043, 4)\n"
     ]
    }
   ],
   "source": [
    "users = df.userId.unique()\n",
    "movies = df.movieId.unique()\n",
    "\n",
    "userid2idx = {o:i for i,o in enumerate(users)}\n",
    "movieid2idx = {o:i for i,o in enumerate(movies)}\n",
    "\n",
    "df['userId'] = df['userId'].apply(lambda x: userid2idx[x])\n",
    "df['movieId'] = df['movieId'].apply(lambda x: movieid2idx[x])\n",
    "split = np.random.rand(len(df)) < 0.8\n",
    "train = df[split]\n",
    "valid = df[~split]\n",
    "print(train.shape , valid.shape)"
   ]
  },
  {
   "cell_type": "code",
   "execution_count": 246,
   "id": "saving-article",
   "metadata": {},
   "outputs": [
    {
     "name": "stderr",
     "output_type": "stream",
     "text": [
      "<ipython-input-246-d8f699dd06d9>:3: SettingWithCopyWarning: \n",
      "A value is trying to be set on a copy of a slice from a DataFrame.\n",
      "Try using .loc[row_indexer,col_indexer] = value instead\n",
      "\n",
      "See the caveats in the documentation: https://pandas.pydata.org/pandas-docs/stable/user_guide/indexing.html#returning-a-view-versus-a-copy\n",
      "  train['userId']= user_encoder.fit_transform(train['userId'])\n",
      "<ipython-input-246-d8f699dd06d9>:4: SettingWithCopyWarning: \n",
      "A value is trying to be set on a copy of a slice from a DataFrame.\n",
      "Try using .loc[row_indexer,col_indexer] = value instead\n",
      "\n",
      "See the caveats in the documentation: https://pandas.pydata.org/pandas-docs/stable/user_guide/indexing.html#returning-a-view-versus-a-copy\n",
      "  train['movieId']=movie_encoder.fit_transform(train['movieId'])\n",
      "<ipython-input-246-d8f699dd06d9>:5: SettingWithCopyWarning: \n",
      "A value is trying to be set on a copy of a slice from a DataFrame.\n",
      "Try using .loc[row_indexer,col_indexer] = value instead\n",
      "\n",
      "See the caveats in the documentation: https://pandas.pydata.org/pandas-docs/stable/user_guide/indexing.html#returning-a-view-versus-a-copy\n",
      "  valid['userId']= user_encoder.fit_transform(valid['userId'])\n",
      "<ipython-input-246-d8f699dd06d9>:6: SettingWithCopyWarning: \n",
      "A value is trying to be set on a copy of a slice from a DataFrame.\n",
      "Try using .loc[row_indexer,col_indexer] = value instead\n",
      "\n",
      "See the caveats in the documentation: https://pandas.pydata.org/pandas-docs/stable/user_guide/indexing.html#returning-a-view-versus-a-copy\n",
      "  valid['movieId']=movie_encoder.fit_transform(valid['movieId'])\n"
     ]
    }
   ],
   "source": [
    "user_encoder= LabelEncoder()\n",
    "movie_encoder= LabelEncoder()\n",
    "train['userId']= user_encoder.fit_transform(train['userId'])\n",
    "train['movieId']=movie_encoder.fit_transform(train['movieId'])\n",
    "valid['userId']= user_encoder.fit_transform(valid['userId'])\n",
    "valid['movieId']=movie_encoder.fit_transform(valid['movieId'])"
   ]
  },
  {
   "cell_type": "code",
   "execution_count": 247,
   "id": "editorial-service",
   "metadata": {},
   "outputs": [
    {
     "data": {
      "text/html": [
       "<div>\n",
       "<style scoped>\n",
       "    .dataframe tbody tr th:only-of-type {\n",
       "        vertical-align: middle;\n",
       "    }\n",
       "\n",
       "    .dataframe tbody tr th {\n",
       "        vertical-align: top;\n",
       "    }\n",
       "\n",
       "    .dataframe thead th {\n",
       "        text-align: right;\n",
       "    }\n",
       "</style>\n",
       "<table border=\"1\" class=\"dataframe\">\n",
       "  <thead>\n",
       "    <tr style=\"text-align: right;\">\n",
       "      <th></th>\n",
       "      <th>userId</th>\n",
       "      <th>movieId</th>\n",
       "      <th>rating</th>\n",
       "      <th>timestamp</th>\n",
       "    </tr>\n",
       "  </thead>\n",
       "  <tbody>\n",
       "    <tr>\n",
       "      <th>0</th>\n",
       "      <td>0</td>\n",
       "      <td>0</td>\n",
       "      <td>3.5</td>\n",
       "      <td>2005-04-02 23:53:47</td>\n",
       "    </tr>\n",
       "    <tr>\n",
       "      <th>1</th>\n",
       "      <td>0</td>\n",
       "      <td>1</td>\n",
       "      <td>3.5</td>\n",
       "      <td>2005-04-02 23:31:16</td>\n",
       "    </tr>\n",
       "    <tr>\n",
       "      <th>2</th>\n",
       "      <td>0</td>\n",
       "      <td>2</td>\n",
       "      <td>3.5</td>\n",
       "      <td>2005-04-02 23:33:39</td>\n",
       "    </tr>\n",
       "    <tr>\n",
       "      <th>3</th>\n",
       "      <td>0</td>\n",
       "      <td>3</td>\n",
       "      <td>3.5</td>\n",
       "      <td>2005-04-02 23:32:07</td>\n",
       "    </tr>\n",
       "    <tr>\n",
       "      <th>4</th>\n",
       "      <td>0</td>\n",
       "      <td>4</td>\n",
       "      <td>3.5</td>\n",
       "      <td>2005-04-02 23:29:40</td>\n",
       "    </tr>\n",
       "  </tbody>\n",
       "</table>\n",
       "</div>"
      ],
      "text/plain": [
       "   userId  movieId  rating            timestamp\n",
       "0       0        0     3.5  2005-04-02 23:53:47\n",
       "1       0        1     3.5  2005-04-02 23:31:16\n",
       "2       0        2     3.5  2005-04-02 23:33:39\n",
       "3       0        3     3.5  2005-04-02 23:32:07\n",
       "4       0        4     3.5  2005-04-02 23:29:40"
      ]
     },
     "execution_count": 247,
     "metadata": {},
     "output_type": "execute_result"
    }
   ],
   "source": [
    "df.head()"
   ]
  },
  {
   "cell_type": "code",
   "execution_count": 248,
   "id": "thrown-combination",
   "metadata": {},
   "outputs": [
    {
     "data": {
      "text/plain": [
       "(138493, 26744)"
      ]
     },
     "execution_count": 248,
     "metadata": {},
     "output_type": "execute_result"
    }
   ],
   "source": [
    "df.userId.nunique(),df.movieId.nunique()"
   ]
  },
  {
   "cell_type": "code",
   "execution_count": 249,
   "id": "global-moscow",
   "metadata": {},
   "outputs": [],
   "source": [
    "u_train= train['userId']\n",
    "m_train= train['movieId']\n",
    "r_train= train['rating']\n",
    "lu_train= u_train.nunique()\n",
    "lm_train= m_train.nunique()"
   ]
  },
  {
   "cell_type": "code",
   "execution_count": 250,
   "id": "interesting-progressive",
   "metadata": {},
   "outputs": [
    {
     "name": "stdout",
     "output_type": "stream",
     "text": [
      "Original train size: 1728023776\n"
     ]
    }
   ],
   "source": [
    "import sys\n",
    "print(\"Original train size:\",sys.getsizeof(train))\n"
   ]
  },
  {
   "cell_type": "code",
   "execution_count": 251,
   "id": "brief-jimmy",
   "metadata": {},
   "outputs": [],
   "source": [
    "matrix_train= coo_matrix((r_train,(u_train,m_train)), shape=(lu_train, lm_train))"
   ]
  },
  {
   "cell_type": "code",
   "execution_count": 252,
   "id": "inner-relief",
   "metadata": {},
   "outputs": [
    {
     "name": "stdout",
     "output_type": "stream",
     "text": [
      "Coordinate matrix size:  48\n"
     ]
    }
   ],
   "source": [
    "print(\"Coordinate matrix size: \", sys.getsizeof(matrix))"
   ]
  },
  {
   "cell_type": "code",
   "execution_count": 253,
   "id": "sacred-chaos",
   "metadata": {},
   "outputs": [],
   "source": [
    "u_val= valid['userId']\n",
    "m_val= valid['movieId']\n",
    "r_val= valid['rating']\n",
    "lu_val= u_val.nunique()\n",
    "lm_val= m_val.nunique()"
   ]
  },
  {
   "cell_type": "code",
   "execution_count": 254,
   "id": "rough-honor",
   "metadata": {},
   "outputs": [],
   "source": [
    "matrix_val= coo_matrix((r_val,(u_val,m_val)), shape=(lu_train, lm_train))"
   ]
  },
  {
   "cell_type": "code",
   "execution_count": 255,
   "id": "current-compatibility",
   "metadata": {},
   "outputs": [],
   "source": [
    "model= LightFM(no_components=30, k=5, learning_rate=0.05, random_state=33)\n"
   ]
  },
  {
   "cell_type": "code",
   "execution_count": 256,
   "id": "isolated-citation",
   "metadata": {},
   "outputs": [
    {
     "data": {
      "text/plain": [
       "<lightfm.lightfm.LightFM at 0x31bef1700>"
      ]
     },
     "execution_count": 256,
     "metadata": {},
     "output_type": "execute_result"
    }
   ],
   "source": [
    "model.fit(matrix_train,epochs= 50, num_threads= 4)"
   ]
  },
  {
   "cell_type": "code",
   "execution_count": 257,
   "id": "alive-andrews",
   "metadata": {},
   "outputs": [
    {
     "data": {
      "text/plain": [
       "<13849x16456 sparse matrix of type '<class 'numpy.float32'>'\n",
       "\twith 1613387 stored elements in COOrdinate format>"
      ]
     },
     "execution_count": 257,
     "metadata": {},
     "output_type": "execute_result"
    }
   ],
   "source": [
    "matrix"
   ]
  },
  {
   "cell_type": "code",
   "execution_count": 258,
   "id": "bridal-kennedy",
   "metadata": {},
   "outputs": [
    {
     "name": "stdout",
     "output_type": "stream",
     "text": [
      "Train AUC Score:: 0.9694958\n",
      "Test AUC Score: 0.9507404\n"
     ]
    }
   ],
   "source": [
    "from lightfm.evaluation import auc_score, precision_at_k\n",
    "print(\"Train AUC Score::\",auc_score(model, matrix_train, num_threads=4).mean())\n",
    "print(\"Test AUC Score:\",auc_score(model, matrix_val, num_threads=4).mean())\n"
   ]
  },
  {
   "cell_type": "code",
   "execution_count": null,
   "id": "acoustic-yemen",
   "metadata": {},
   "outputs": [],
   "source": []
  }
 ],
 "metadata": {
  "kernelspec": {
   "display_name": "Python 3",
   "language": "python",
   "name": "python3"
  },
  "language_info": {
   "codemirror_mode": {
    "name": "ipython",
    "version": 3
   },
   "file_extension": ".py",
   "mimetype": "text/x-python",
   "name": "python",
   "nbconvert_exporter": "python",
   "pygments_lexer": "ipython3",
   "version": "3.8.7"
  }
 },
 "nbformat": 4,
 "nbformat_minor": 5
}
