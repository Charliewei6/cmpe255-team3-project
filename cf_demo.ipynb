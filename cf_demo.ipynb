{
 "cells": [
  {
   "cell_type": "code",
   "execution_count": 10,
   "metadata": {},
   "outputs": [],
   "source": [
    "import time\n",
    "import numpy as np\n",
    "import pandas as pd\n",
    "import keras\n",
    "\n",
    "from keras.layers import Dropout, Flatten,Activation,Input,Embedding\n",
    "from keras.models import Model\n",
    "from keras.layers.merge import dot\n",
    "from keras.optimizers import Adam\n",
    "from keras.layers import Dense , merge\n",
    "from sklearn.metrics import mean_squared_error\n",
    "from math import sqrt\n",
    "from sklearn.model_selection import train_test_split"
   ]
  },
  {
   "cell_type": "code",
   "execution_count": 11,
   "metadata": {},
   "outputs": [],
   "source": [
    "np.random.seed(123)\n",
    "# load data\n",
    "def loadData():\n",
    "    ratings = pd.read_csv('./data/rating.csv', parse_dates=['timestamp'])\n",
    "    return ratings"
   ]
  },
  {
   "cell_type": "code",
   "execution_count": 12,
   "metadata": {},
   "outputs": [],
   "source": [
    "# for test convenience, only use num% of data\n",
    "def cutData(num, ratings):\n",
    "    rand_userIds = np.random.choice(ratings['userId'].unique(), size=int(len(ratings['userId'].unique())*num), replace=False)\n",
    "    ratings = ratings.loc[ratings['userId'].isin(rand_userIds)]\n",
    "    return ratings"
   ]
  },
  {
   "cell_type": "code",
   "execution_count": 13,
   "metadata": {},
   "outputs": [],
   "source": [
    "def splitData(ratings):\n",
    "    users = ratings.userId.unique()\n",
    "    movies = ratings.movieId.unique()\n",
    "\n",
    "    userid2idx = {o:i for i,o in enumerate(users)}\n",
    "    movieid2idx = {o:i for i,o in enumerate(movies)}\n",
    "\n",
    "    ratings['userId'] = ratings['userId'].apply(lambda x: userid2idx[x])\n",
    "    ratings['movieId'] = ratings['movieId'].apply(lambda x: movieid2idx[x])\n",
    "    train_ratings, test_ratings = train_test_split(ratings, test_size=0.2, random_state=42)\n",
    "    \n",
    "    print(train_ratings.shape , test_ratings.shape)\n",
    "    return train_ratings, test_ratings"
   ]
  },
  {
   "cell_type": "code",
   "execution_count": 14,
   "metadata": {},
   "outputs": [],
   "source": [
    "def embeddingNNModel(ratings):\n",
    "    n_movies=len(ratings['movieId'].unique())\n",
    "    n_users=len(ratings['userId'].unique())\n",
    "    n_latent_factors=50  # hyperparamter to deal with. \n",
    "\n",
    "    user_input=Input(shape=(1,),name='user_input',dtype='int64')\n",
    "    user_embedding=Embedding(n_users,n_latent_factors,name='user_embedding')(user_input)\n",
    "    user_vec =Flatten(name='FlattenUsers')(user_embedding)\n",
    "    user_vec=Dropout(0.40)(user_vec)\n",
    "\n",
    "    movie_input=Input(shape=(1,),name='movie_input',dtype='int64')\n",
    "    movie_embedding=Embedding(n_movies,n_latent_factors,name='movie_embedding')(movie_input)\n",
    "    movie_vec=Flatten(name='FlattenMovies')(movie_embedding)\n",
    "    movie_vec=Dropout(0.40)(movie_vec)\n",
    "\n",
    "    sim=dot([user_vec,movie_vec],name='Simalarity-Dot-Product',axes=1)\n",
    "    nn_inp=Dense(96,activation='relu')(sim)\n",
    "    nn_inp=Dropout(0.4)(nn_inp)\n",
    "    nn_inp=Dense(1,activation='relu')(nn_inp)\n",
    "    nn_model =keras.models.Model([user_input, movie_input],nn_inp)\n",
    "    return nn_model"
   ]
  },
  {
   "cell_type": "code",
   "execution_count": 15,
   "metadata": {},
   "outputs": [],
   "source": [
    "def fit(model, train_ratings, epochs, batch_size):\n",
    "    model.compile(optimizer=Adam(lr=1e-4),loss='mse')\n",
    "    model.fit([train_ratings.userId,train_ratings.movieId], train_ratings.rating, epochs=epochs, batch_size=batch_size, verbose=1)\n",
    "    return model"
   ]
  },
  {
   "cell_type": "code",
   "execution_count": 16,
   "metadata": {},
   "outputs": [],
   "source": [
    "def predict(model, test_ratings):\n",
    "    pre_ratings = model.predict([test_ratings.userId,test_ratings.movieId])\n",
    "    return pre_ratings"
   ]
  },
  {
   "cell_type": "code",
   "execution_count": 17,
   "metadata": {},
   "outputs": [],
   "source": [
    "def rmse(prediction, ground_truth):\n",
    "    return sqrt(mean_squared_error(prediction, ground_truth))"
   ]
  },
  {
   "cell_type": "code",
   "execution_count": 18,
   "metadata": {},
   "outputs": [
    {
     "name": "stderr",
     "output_type": "stream",
     "text": [
      "<ipython-input-13-e6ff1afe7310>:8: SettingWithCopyWarning: \n",
      "A value is trying to be set on a copy of a slice from a DataFrame.\n",
      "Try using .loc[row_indexer,col_indexer] = value instead\n",
      "\n",
      "See the caveats in the documentation: https://pandas.pydata.org/pandas-docs/stable/user_guide/indexing.html#returning-a-view-versus-a-copy\n",
      "  ratings['userId'] = ratings['userId'].apply(lambda x: userid2idx[x])\n",
      "<ipython-input-13-e6ff1afe7310>:9: SettingWithCopyWarning: \n",
      "A value is trying to be set on a copy of a slice from a DataFrame.\n",
      "Try using .loc[row_indexer,col_indexer] = value instead\n",
      "\n",
      "See the caveats in the documentation: https://pandas.pydata.org/pandas-docs/stable/user_guide/indexing.html#returning-a-view-versus-a-copy\n",
      "  ratings['movieId'] = ratings['movieId'].apply(lambda x: movieid2idx[x])\n"
     ]
    },
    {
     "name": "stdout",
     "output_type": "stream",
     "text": [
      "(814383, 4) (203596, 4)\n",
      "Epoch 1/10\n",
      "1591/1591 [==============================] - 6s 4ms/step - loss: 10.4317\n",
      "Epoch 2/10\n",
      "1591/1591 [==============================] - 7s 4ms/step - loss: 1.5141\n",
      "Epoch 3/10\n",
      "1591/1591 [==============================] - 7s 5ms/step - loss: 1.2709\n",
      "Epoch 4/10\n",
      "1591/1591 [==============================] - 6s 4ms/step - loss: 1.2611\n",
      "Epoch 5/10\n",
      "1591/1591 [==============================] - 7s 4ms/step - loss: 1.2463\n",
      "Epoch 6/10\n",
      "1591/1591 [==============================] - 7s 4ms/step - loss: 1.1759\n",
      "Epoch 7/10\n",
      "1591/1591 [==============================] - 7s 4ms/step - loss: 1.0805\n",
      "Epoch 8/10\n",
      "1591/1591 [==============================] - 7s 4ms/step - loss: 0.9945\n",
      "Epoch 9/10\n",
      "1591/1591 [==============================] - 7s 4ms/step - loss: 0.9377\n",
      "Epoch 10/10\n",
      "1591/1591 [==============================] - 7s 4ms/step - loss: 0.8959\n",
      "Batch_size is: 512, epochs is: 10, Neural Network RMSE is: 0.9016404685191259\n",
      "Runtime of the program is 113.98318696022034\n"
     ]
    }
   ],
   "source": [
    "start = time.time()\n",
    "ratings = loadData()\n",
    "ratings_cut = cutData(0.05, ratings)\n",
    "train_ratings, test_ratings = splitData(ratings_cut)\n",
    "nn_model = embeddingNNModel(ratings_cut)\n",
    "batch_size = 512\n",
    "epochs = 10\n",
    "new_model = fit(nn_model, train_ratings, epochs, batch_size)\n",
    "pre_ratings = predict(new_model, test_ratings)\n",
    "RMSE = rmse(pre_ratings, test_ratings.rating)\n",
    "print (f'Batch_size is: {batch_size}, epochs is: {epochs}, Neural Network RMSE is: {RMSE}')\n",
    "end = time.time()\n",
    "print(f\"Runtime of the program is {end - start}\")"
   ]
  },
  {
   "cell_type": "code",
   "execution_count": null,
   "metadata": {},
   "outputs": [],
   "source": []
  }
 ],
 "metadata": {
  "kernelspec": {
   "display_name": "Python 3",
   "language": "python",
   "name": "python3"
  },
  "language_info": {
   "codemirror_mode": {
    "name": "ipython",
    "version": 3
   },
   "file_extension": ".py",
   "mimetype": "text/x-python",
   "name": "python",
   "nbconvert_exporter": "python",
   "pygments_lexer": "ipython3",
   "version": "3.8.8"
  }
 },
 "nbformat": 4,
 "nbformat_minor": 4
}
